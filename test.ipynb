{
 "cells": [
  {
   "cell_type": "code",
   "execution_count": 33,
   "metadata": {
    "collapsed": true
   },
   "outputs": [],
   "source": [
    "from functools import cached_property\n",
    "from contextlib import AsyncExitStack, asynccontextmanager\n",
    "\n",
    "class A:\n",
    "    stack = AsyncExitStack()\n",
    "\n",
    "    async def init_logic(self):\n",
    "        async with self.stack:\n",
    "            print(\"A enter\")\n",
    "            yield\n",
    "            print(\"A exit\")\n",
    "\n",
    "    @cached_property\n",
    "    def init_ctx(self):\n",
    "        return asynccontextmanager(self.init_logic)()\n",
    "\n",
    "class B(A):\n",
    "    @asynccontextmanager\n",
    "    async def blah(self):\n",
    "        print(\"Blah B\")\n",
    "        yield\n",
    "        print(\"Blub B\")\n",
    "\n",
    "    async def init_logic(self):\n",
    "        generator = super().init_logic()\n",
    "        async with self.stack:\n",
    "            await self.stack.enter_async_context(self.blah())\n",
    "\n",
    "        async for v in generator:\n",
    "            yield v\n",
    "\n",
    "class C(A):\n",
    "    @asynccontextmanager\n",
    "    async def blub(self):\n",
    "        print(\"Blah C\")\n",
    "        yield\n",
    "        print(\"Blub C\")\n",
    "\n",
    "    async def init_logic(self):\n",
    "        generator = super().init_logic()\n",
    "        async with self.stack:\n",
    "            await self.stack.enter_async_context(self.blub())\n",
    "\n",
    "        async for v in generator:\n",
    "            yield v\n",
    "\n",
    "class D(B, C):\n",
    "    pass"
   ]
  },
  {
   "cell_type": "code",
   "execution_count": 34,
   "outputs": [
    {
     "name": "stdout",
     "output_type": "stream",
     "text": [
      "Blah B\n",
      "Blub B\n",
      "Blah C\n",
      "Blub C\n",
      "A enter\n",
      "Run\n",
      "A exit\n"
     ]
    }
   ],
   "source": [
    "import asyncio\n",
    "\n",
    "async def run():\n",
    "    x = D()\n",
    "    async with x.init_ctx:\n",
    "        print(\"Run\")\n",
    "\n",
    "await run()\n"
   ],
   "metadata": {
    "collapsed": false,
    "pycharm": {
     "name": "#%%\n"
    }
   }
  },
  {
   "cell_type": "code",
   "execution_count": 59,
   "outputs": [],
   "source": [
    "class InitContextManager:\n",
    "    init_lock = asyncio.Lock()\n",
    "\n",
    "    async def init_logic(self):\n",
    "        if self.init_lock.locked():\n",
    "            print(\"locked\")\n",
    "            yield self\n",
    "            return\n",
    "        else:\n",
    "            async with self.init_lock:\n",
    "                print(\"aquired lock\")\n",
    "                yield self\n",
    "\n",
    "    @asynccontextmanager\n",
    "    async def initialize(self):\n",
    "        async for v in self.init_logic():\n",
    "            yield v\n"
   ],
   "metadata": {
    "collapsed": false,
    "pycharm": {
     "name": "#%%\n"
    }
   }
  },
  {
   "cell_type": "code",
   "execution_count": 62,
   "outputs": [
    {
     "name": "stdout",
     "output_type": "stream",
     "text": [
      "Enter Zeug\n",
      "locked\n",
      "locked\n",
      "<__main__.Ding object at 0x000001EF01F86940>\n",
      "Exit Zeug\n"
     ]
    }
   ],
   "source": [
    "class Kram(InitContextManager):\n",
    "    init_lock = asyncio.Lock()\n",
    "    @asynccontextmanager\n",
    "    async def some_shit(self):\n",
    "        if self.init_lock.locked():\n",
    "            yield\n",
    "        else:\n",
    "            async with self.init_lock:\n",
    "                print(\"Enter Zeug\")\n",
    "                yield\n",
    "                print(\"Exit Zeug\")\n",
    "\n",
    "    def init_logic(self):\n",
    "        async with self.some_shit():\n",
    "            async for v in super().init_logic():\n",
    "                yield v\n",
    "\n",
    "class Zeug(InitContextManager):\n",
    "\n",
    "    init_lock = asyncio.Lock()\n",
    "    @asynccontextmanager\n",
    "    async def other_shit(self):\n",
    "        if self.init_lock.locked():\n",
    "            yield\n",
    "        else:\n",
    "            async with self.init_lock:\n",
    "                print(\"Enter Zeug\")\n",
    "                yield\n",
    "                print(\"Exit Zeug\")\n",
    "\n",
    "    def init_logic(self):\n",
    "        async with self.other_shit():\n",
    "            async for v in super().init_logic():\n",
    "                yield v\n",
    "\n",
    "class Ding(Kram, Zeug):\n",
    "    pass\n",
    "\n",
    "async def run():\n",
    "    x = Ding()\n",
    "    async with x.initialize() as b:\n",
    "        async with b.initialize() as c:\n",
    "            print(c)\n",
    "\n",
    "await run()"
   ],
   "metadata": {
    "collapsed": false,
    "pycharm": {
     "name": "#%%\n"
    }
   }
  },
  {
   "cell_type": "code",
   "execution_count": null,
   "outputs": [],
   "source": [],
   "metadata": {
    "collapsed": false,
    "pycharm": {
     "name": "#%%\n"
    }
   }
  }
 ],
 "metadata": {
  "kernelspec": {
   "display_name": "Python 3",
   "language": "python",
   "name": "python3"
  },
  "language_info": {
   "codemirror_mode": {
    "name": "ipython",
    "version": 2
   },
   "file_extension": ".py",
   "mimetype": "text/x-python",
   "name": "python",
   "nbconvert_exporter": "python",
   "pygments_lexer": "ipython2",
   "version": "2.7.6"
  }
 },
 "nbformat": 4,
 "nbformat_minor": 0
}