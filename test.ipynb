{
 "cells": [
  {
   "cell_type": "code",
   "execution_count": 1,
   "outputs": [
    {
     "ename": "TypeError",
     "evalue": "'type' object is not subscriptable",
     "output_type": "error",
     "traceback": [
      "\u001B[0;31m---------------------------------------------------------------------------\u001B[0m",
      "\u001B[0;31mTypeError\u001B[0m                                 Traceback (most recent call last)",
      "\u001B[0;32m/tmp/ipykernel_122895/2722612906.py\u001B[0m in \u001B[0;36m<module>\u001B[0;34m\u001B[0m\n\u001B[1;32m      2\u001B[0m \u001B[0;34m\u001B[0m\u001B[0m\n\u001B[1;32m      3\u001B[0m \u001B[0;34m\u001B[0m\u001B[0m\n\u001B[0;32m----> 4\u001B[0;31m \u001B[0;32mfrom\u001B[0m \u001B[0mubii\u001B[0m\u001B[0;34m.\u001B[0m\u001B[0minteract\u001B[0m\u001B[0;34m.\u001B[0m\u001B[0mutil\u001B[0m \u001B[0;32mimport\u001B[0m \u001B[0mcondition_property\u001B[0m\u001B[0;34m\u001B[0m\u001B[0;34m\u001B[0m\u001B[0m\n\u001B[0m\u001B[1;32m      5\u001B[0m \u001B[0;34m\u001B[0m\u001B[0m\n\u001B[1;32m      6\u001B[0m \u001B[0;34m\u001B[0m\u001B[0m\n",
      "\u001B[0;32m~/Code/ubi-interact/ma-ss21/ubi-interact-python-package/src/ubii/interact/__init__.py\u001B[0m in \u001B[0;36m<module>\u001B[0;34m\u001B[0m\n\u001B[0;32m----> 1\u001B[0;31m \u001B[0;32mfrom\u001B[0m \u001B[0;34m.\u001B[0m\u001B[0m_default\u001B[0m \u001B[0;32mimport\u001B[0m \u001B[0mStandardProtocol\u001B[0m\u001B[0;34m\u001B[0m\u001B[0;34m\u001B[0m\u001B[0m\n\u001B[0m\u001B[1;32m      2\u001B[0m \u001B[0;34m\u001B[0m\u001B[0m\n\u001B[1;32m      3\u001B[0m \u001B[0m__DEBUG__\u001B[0m \u001B[0;34m=\u001B[0m \u001B[0;32mFalse\u001B[0m\u001B[0;34m\u001B[0m\u001B[0;34m\u001B[0m\u001B[0m\n\u001B[1;32m      4\u001B[0m \u001B[0;34m\u001B[0m\u001B[0m\n\u001B[1;32m      5\u001B[0m \u001B[0;34m\u001B[0m\u001B[0m\n",
      "\u001B[0;32m~/Code/ubi-interact/ma-ss21/ubi-interact-python-package/src/ubii/interact/_default.py\u001B[0m in \u001B[0;36m<module>\u001B[0;34m\u001B[0m\n\u001B[1;32m      5\u001B[0m \u001B[0;34m\u001B[0m\u001B[0m\n\u001B[1;32m      6\u001B[0m \u001B[0;32mimport\u001B[0m \u001B[0mubii\u001B[0m\u001B[0;34m.\u001B[0m\u001B[0mproto\u001B[0m \u001B[0;32mas\u001B[0m \u001B[0mub\u001B[0m\u001B[0;34m\u001B[0m\u001B[0;34m\u001B[0m\u001B[0m\n\u001B[0;32m----> 7\u001B[0;31m \u001B[0;32mfrom\u001B[0m \u001B[0;34m.\u001B[0m \u001B[0;32mimport\u001B[0m \u001B[0mconnections\u001B[0m\u001B[0;34m,\u001B[0m \u001B[0mprotocol\u001B[0m\u001B[0;34m,\u001B[0m \u001B[0mconstants\u001B[0m\u001B[0;34m,\u001B[0m \u001B[0mservices\u001B[0m\u001B[0;34m\u001B[0m\u001B[0;34m\u001B[0m\u001B[0m\n\u001B[0m\u001B[1;32m      8\u001B[0m \u001B[0;32mfrom\u001B[0m \u001B[0;34m.\u001B[0m\u001B[0mconstants\u001B[0m \u001B[0;32mimport\u001B[0m \u001B[0mGLOBAL_CONFIG\u001B[0m\u001B[0;34m\u001B[0m\u001B[0;34m\u001B[0m\u001B[0m\n\u001B[1;32m      9\u001B[0m \u001B[0;34m\u001B[0m\u001B[0m\n",
      "\u001B[0;32m~/Code/ubi-interact/ma-ss21/ubi-interact-python-package/src/ubii/interact/connections.py\u001B[0m in \u001B[0;36m<module>\u001B[0;34m\u001B[0m\n\u001B[1;32m     12\u001B[0m \u001B[0;32mimport\u001B[0m \u001B[0mubii\u001B[0m\u001B[0;34m.\u001B[0m\u001B[0mproto\u001B[0m \u001B[0;32mas\u001B[0m \u001B[0mub\u001B[0m\u001B[0;34m\u001B[0m\u001B[0;34m\u001B[0m\u001B[0m\n\u001B[1;32m     13\u001B[0m \u001B[0;32mfrom\u001B[0m \u001B[0;34m.\u001B[0m\u001B[0mservices\u001B[0m \u001B[0;32mimport\u001B[0m \u001B[0mServiceConnection\u001B[0m\u001B[0;34m\u001B[0m\u001B[0;34m\u001B[0m\u001B[0m\n\u001B[0;32m---> 14\u001B[0;31m \u001B[0;32mfrom\u001B[0m \u001B[0;34m.\u001B[0m\u001B[0mtopics\u001B[0m \u001B[0;32mimport\u001B[0m \u001B[0mDataConnection\u001B[0m\u001B[0;34m\u001B[0m\u001B[0;34m\u001B[0m\u001B[0m\n\u001B[0m\u001B[1;32m     15\u001B[0m \u001B[0;34m\u001B[0m\u001B[0m\n\u001B[1;32m     16\u001B[0m \u001B[0mlog\u001B[0m \u001B[0;34m=\u001B[0m \u001B[0mlogging\u001B[0m\u001B[0;34m.\u001B[0m\u001B[0mgetLogger\u001B[0m\u001B[0;34m(\u001B[0m\u001B[0;34mf\"{__name__}.sock\"\u001B[0m\u001B[0;34m)\u001B[0m\u001B[0;34m\u001B[0m\u001B[0;34m\u001B[0m\u001B[0m\n",
      "\u001B[0;32m~/Code/ubi-interact/ma-ss21/ubi-interact-python-package/src/ubii/interact/topics.py\u001B[0m in \u001B[0;36m<module>\u001B[0;34m\u001B[0m\n\u001B[1;32m     19\u001B[0m \u001B[0;32mfrom\u001B[0m \u001B[0mwarnings\u001B[0m \u001B[0;32mimport\u001B[0m \u001B[0mwarn\u001B[0m\u001B[0;34m\u001B[0m\u001B[0;34m\u001B[0m\u001B[0m\n\u001B[1;32m     20\u001B[0m \u001B[0;32mfrom\u001B[0m \u001B[0mubii\u001B[0m \u001B[0;32mimport\u001B[0m \u001B[0mproto\u001B[0m \u001B[0;32mas\u001B[0m \u001B[0mub\u001B[0m\u001B[0;34m\u001B[0m\u001B[0;34m\u001B[0m\u001B[0m\n\u001B[0;32m---> 21\u001B[0;31m \u001B[0;32mfrom\u001B[0m \u001B[0mubii\u001B[0m\u001B[0;34m.\u001B[0m\u001B[0minteract\u001B[0m \u001B[0;32mimport\u001B[0m \u001B[0mutil\u001B[0m\u001B[0;34m\u001B[0m\u001B[0;34m\u001B[0m\u001B[0m\n\u001B[0m\u001B[1;32m     22\u001B[0m \u001B[0;32mfrom\u001B[0m \u001B[0mubii\u001B[0m\u001B[0;34m.\u001B[0m\u001B[0minteract\u001B[0m\u001B[0;34m.\u001B[0m\u001B[0mutil\u001B[0m \u001B[0;32mimport\u001B[0m \u001B[0mCoroutineWrapper\u001B[0m\u001B[0;34m\u001B[0m\u001B[0;34m\u001B[0m\u001B[0m\n\u001B[1;32m     23\u001B[0m \u001B[0;34m\u001B[0m\u001B[0m\n",
      "\u001B[0;32m~/Code/ubi-interact/ma-ss21/ubi-interact-python-package/src/ubii/interact/util.py\u001B[0m in \u001B[0;36m<module>\u001B[0;34m\u001B[0m\n\u001B[1;32m     42\u001B[0m \u001B[0;34m\u001B[0m\u001B[0m\n\u001B[1;32m     43\u001B[0m \u001B[0;34m\u001B[0m\u001B[0m\n\u001B[0;32m---> 44\u001B[0;31m \u001B[0;32mclass\u001B[0m \u001B[0mcondition_property\u001B[0m\u001B[0;34m(\u001B[0m\u001B[0mcached_property\u001B[0m\u001B[0;34m[\u001B[0m\u001B[0m_T\u001B[0m\u001B[0;34m]\u001B[0m\u001B[0;34m)\u001B[0m\u001B[0;34m:\u001B[0m\u001B[0;34m\u001B[0m\u001B[0;34m\u001B[0m\u001B[0m\n\u001B[0m\u001B[1;32m     45\u001B[0m     \"\"\"\n\u001B[1;32m     46\u001B[0m     \u001B[0mThis\u001B[0m \u001B[0;32mis\u001B[0m \u001B[0ma\u001B[0m \u001B[0mdecorator\u001B[0m \u001B[0mto\u001B[0m \u001B[0mcreate\u001B[0m \u001B[0ma\u001B[0m \u001B[0mcached\u001B[0m\u001B[0;31m \u001B[0m\u001B[0;31m`\u001B[0m\u001B[0;31m`\u001B[0m\u001B[0macceuuussor\u001B[0m\u001B[0;31m`\u001B[0m\u001B[0;31m`\u001B[0m \u001B[0mto\u001B[0m \u001B[0mhandle\u001B[0m \u001B[0maccess\u001B[0m \u001B[0mto\u001B[0m \u001B[0msome\u001B[0m \u001B[0mdata\u001B[0m \u001B[0mvia\u001B[0m \u001B[0ma\u001B[0m \u001B[0masyncio\u001B[0m\u001B[0;34m.\u001B[0m\u001B[0mCondition\u001B[0m\u001B[0;34m\u001B[0m\u001B[0;34m\u001B[0m\u001B[0m\n",
      "\u001B[0;31mTypeError\u001B[0m: 'type' object is not subscriptable"
     ]
    }
   ],
   "source": [
    "import random\n",
    "\n",
    "\n",
    "from ubii.interact.util import condition_property\n",
    "Ai\n",
    "\n",
    "class Test:\n",
    "    def __init__(self):\n",
    "        self._value = None\n",
    "\n",
    "    @condition_property\n",
    "    def a(self):\n",
    "        print(\"normal get\")\n",
    "        return self._value\n",
    "\n",
    "    @a.setter\n",
    "    def a(self, value):\n",
    "        print(\"normal set\")\n",
    "        self._value = value\n",
    "\n",
    "x = Test()"
   ],
   "metadata": {
    "collapsed": false,
    "pycharm": {
     "name": "#%%\n"
    }
   }
  },
  {
   "cell_type": "code",
   "source": [
    "import asyncio\n",
    "async def wait_for_value():\n",
    "    while True:\n",
    "        value = await x.a.get()\n",
    "        print(value)\n",
    "\n",
    "async def set_value(range):\n",
    "    for value in range:\n",
    "        await x.a.set(value)\n",
    "        await asyncio.sleep(int(4 * random.random()))"
   ],
   "metadata": {
    "collapsed": false,
    "pycharm": {
     "name": "#%%\n"
    }
   },
   "execution_count": null,
   "outputs": []
  },
  {
   "cell_type": "code",
   "execution_count": null,
   "outputs": [],
   "source": [
    "await asyncio.gather(wait_for_value(), set_value(range=range(20)))"
   ],
   "metadata": {
    "collapsed": false,
    "pycharm": {
     "name": "#%%\n"
    }
   }
  },
  {
   "cell_type": "code",
   "execution_count": null,
   "outputs": [],
   "source": [
    "from itertools import chain, repeat\n",
    "\n",
    "\n",
    "def _default_predicate():\n",
    "    iter = chain(repeat(False, 1), repeat(True))\n",
    "    print(iter)\n",
    "    return iter.__next__\n",
    "\n",
    "a = _default_predicate()\n",
    "b = _default_predicate()\n",
    "\n",
    "for i in range(5):\n",
    "    print(a())\n",
    "    print(b())"
   ],
   "metadata": {
    "collapsed": false,
    "pycharm": {
     "name": "#%%\n"
    }
   }
  },
  {
   "cell_type": "code",
   "execution_count": null,
   "outputs": [],
   "source": [],
   "metadata": {
    "collapsed": false,
    "pycharm": {
     "name": "#%%\n"
    }
   }
  }
 ],
 "metadata": {
  "kernelspec": {
   "display_name": "Python 3",
   "language": "python",
   "name": "python3"
  },
  "language_info": {
   "codemirror_mode": {
    "name": "ipython",
    "version": 2
   },
   "file_extension": ".py",
   "mimetype": "text/x-python",
   "name": "python",
   "nbconvert_exporter": "python",
   "pygments_lexer": "ipython2",
   "version": "2.7.6"
  }
 },
 "nbformat": 4,
 "nbformat_minor": 0
}