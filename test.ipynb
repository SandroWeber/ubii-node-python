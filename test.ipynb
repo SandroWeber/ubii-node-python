{
 "cells": [
  {
   "cell_type": "code",
   "execution_count": 1,
   "outputs": [],
   "source": [
    "import random\n",
    "\n",
    "\n",
    "from ubii.interact.util import condition_property\n",
    "\n",
    "\n",
    "class Test:\n",
    "    def __init__(self):\n",
    "        self._value = None\n",
    "\n",
    "    @condition_property\n",
    "    def a(self):\n",
    "        print(\"normal get\")\n",
    "        return self._value\n",
    "\n",
    "    @a.setter\n",
    "    def a(self, value):\n",
    "        print(\"normal set\")\n",
    "        self._value = value\n",
    "\n",
    "x = Test()"
   ],
   "metadata": {
    "collapsed": false,
    "pycharm": {
     "name": "#%%\n"
    }
   }
  },
  {
   "cell_type": "code",
   "source": [
    "import asyncio\n",
    "async def wait_for_value():\n",
    "    while True:\n",
    "        value = await x.a.get()\n",
    "        print(value)\n",
    "\n",
    "async def set_value(range):\n",
    "    for value in range:\n",
    "        await x.a.set(value)\n",
    "        await asyncio.sleep(int(4 * random.random()))"
   ],
   "metadata": {
    "collapsed": false,
    "pycharm": {
     "name": "#%%\n"
    }
   },
   "execution_count": 2,
   "outputs": []
  },
  {
   "cell_type": "code",
   "execution_count": null,
   "outputs": [
    {
     "name": "stdout",
     "output_type": "stream",
     "text": [
      "Creating Accessor\n",
      "async get\n",
      "async set\n",
      "normal set\n",
      "normal get\n",
      "0\n",
      "async get\n",
      "async set\n",
      "normal set\n",
      "normal get\n",
      "1\n",
      "async get\n",
      "async set\n",
      "normal set\n",
      "normal get\n",
      "2\n",
      "async get\n",
      "async set\n",
      "normal set\n",
      "normal get\n",
      "3\n",
      "async get\n",
      "async set\n",
      "normal set\n",
      "normal get\n",
      "4\n",
      "async get\n",
      "async set\n",
      "normal set\n",
      "normal get\n",
      "5\n",
      "async get\n",
      "async set\n",
      "normal set\n",
      "normal get\n",
      "6\n",
      "async get\n",
      "async set\n",
      "normal set\n",
      "normal get\n",
      "7\n",
      "async get\n",
      "async set\n",
      "normal set\n",
      "normal get\n",
      "8\n",
      "async get\n",
      "async set\n",
      "normal set\n",
      "normal get\n",
      "9\n",
      "async get\n",
      "async set\n",
      "normal set\n",
      "normal get\n",
      "10\n",
      "async get\n",
      "async set\n",
      "normal set\n",
      "normal get\n",
      "11\n",
      "async get\n",
      "async set\n",
      "normal set\n",
      "normal get\n",
      "12\n",
      "async get\n",
      "async set\n",
      "normal set\n",
      "normal get\n",
      "13\n",
      "async get\n",
      "async set\n",
      "normal set\n",
      "normal get\n",
      "14\n",
      "async get\n",
      "async set\n",
      "normal set\n",
      "normal get\n",
      "15\n",
      "async get\n",
      "async set\n",
      "normal set\n",
      "normal get\n",
      "16\n",
      "async get\n",
      "async set\n",
      "normal set\n",
      "normal get\n",
      "17\n",
      "async get\n",
      "async set\n",
      "normal set\n",
      "normal get\n",
      "18\n",
      "async get\n",
      "async set\n",
      "normal set\n",
      "normal get\n",
      "19\n",
      "async get\n"
     ]
    }
   ],
   "source": [
    "await asyncio.gather(wait_for_value(), set_value(range=range(20)))"
   ],
   "metadata": {
    "collapsed": false,
    "pycharm": {
     "name": "#%%\n",
     "is_executing": true
    }
   }
  },
  {
   "cell_type": "code",
   "execution_count": null,
   "outputs": [],
   "source": [
    "from itertools import chain, repeat\n",
    "\n",
    "\n",
    "def _default_predicate():\n",
    "    iter = chain(repeat(False, 1), repeat(True))\n",
    "    print(iter)\n",
    "    return iter.__next__\n",
    "\n",
    "a = _default_predicate()\n",
    "b = _default_predicate()\n",
    "\n",
    "for i in range(5):\n",
    "    print(a())\n",
    "    print(b())"
   ],
   "metadata": {
    "collapsed": false,
    "pycharm": {
     "name": "#%%\n",
     "is_executing": true
    }
   }
  },
  {
   "cell_type": "code",
   "execution_count": null,
   "outputs": [],
   "source": [],
   "metadata": {
    "collapsed": false,
    "pycharm": {
     "name": "#%%\n",
     "is_executing": true
    }
   }
  }
 ],
 "metadata": {
  "kernelspec": {
   "display_name": "Python 3",
   "language": "python",
   "name": "python3"
  },
  "language_info": {
   "codemirror_mode": {
    "name": "ipython",
    "version": 2
   },
   "file_extension": ".py",
   "mimetype": "text/x-python",
   "name": "python",
   "nbconvert_exporter": "python",
   "pygments_lexer": "ipython2",
   "version": "2.7.6"
  }
 },
 "nbformat": 4,
 "nbformat_minor": 0
}