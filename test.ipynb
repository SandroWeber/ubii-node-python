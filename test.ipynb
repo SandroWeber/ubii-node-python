{
 "cells": [
  {
   "cell_type": "code",
   "execution_count": 2,
   "outputs": [],
   "source": [
    "from dataclasses import dataclass\n",
    "import asyncio\n",
    "import typing as t\n",
    "from functools import cached_property\n",
    "\n",
    "T = t.TypeVar('T')\n",
    "\n",
    "@dataclass\n",
    "class accessor(t.Generic[T]):\n",
    "    set: t.Callable[[], t.Coroutine[t.Any, t.Any, T]]\n",
    "    get: t.Callable[[T], t.Coroutine[t.Any, t.Any, None]]\n",
    "\n",
    "\n",
    "class awaitable_property(cached_property, t.Generic[T]):\n",
    "    \"\"\"\n",
    "\n",
    "    \"\"\"\n",
    "\n",
    "    def __init__(self: 'awaitable_property[T]',\n",
    "                 fget: t.Optional[t.Callable[[t.Any], T]] = ...,\n",
    "                 fset: t.Optional[t.Callable[[t.Any, T], None]] = ...,\n",
    "                 fdel: t.Optional[t.Callable[[t.Any], None]] = ...,\n",
    "                 doc: t.Optional[str] = ...) -> None:\n",
    "        self.fget = fget\n",
    "        self.fset = fset\n",
    "        self.fdel = fdel\n",
    "        if doc is None and fget is not None:\n",
    "            doc = fget.__doc__\n",
    "        self.__doc__ = doc\n",
    "        super().__init__(self._create_accessor)\n",
    "\n",
    "    @t.overload\n",
    "    def __get__(self: 'awaitable_property[T]', obj: None, kls: type = ...) -> 'awaitable_property[T]':\n",
    "        ...\n",
    "\n",
    "    @t.overload\n",
    "    def __get__(self: 'awaitable_property[T]', obj: t.Any, kls: None = ...) -> accessor[T]:\n",
    "        ...\n",
    "\n",
    "    def __get__(self: 'awaitable_property[T]', obj: t.Optional[t.Any] = None, kls: t.Optional[type] = None):\n",
    "        return super().__get__(obj, kls)\n",
    "\n",
    "    def __set__(self, obj, value):\n",
    "        raise AttributeError(f\"can't set attribute directly, use set()\")\n",
    "\n",
    "    def _create_accessor(self, obj):\n",
    "        condition = asyncio.Condition()\n",
    "        return accessor(\n",
    "            get=lambda: self._get(condition=condition, obj=obj),\n",
    "            set=lambda value: self._set(condition=condition, obj=obj, value=value)\n",
    "        )\n",
    "\n",
    "    async def _set(self, *, condition: asyncio.Condition, obj: t.Any, value):\n",
    "        if self.fset is None:\n",
    "            raise AttributeError(f\"can't set attribute {self.attrname}\")\n",
    "        async with condition:\n",
    "            self.fset(obj, value)\n",
    "            condition.notify_all()\n",
    "\n",
    "    async def _get(self, *, condition: asyncio.Condition, obj: t.Any):\n",
    "        if self.fget is None:\n",
    "            raise AttributeError(f'unreadable attribute {self.attrname}')\n",
    "        async with condition:\n",
    "            await condition.wait()\n",
    "            return self.fget(obj)\n",
    "\n",
    "    def getter(self, fget):\n",
    "        prop = type(self)(fget, self.fset, self.fdel, self.__doc__)\n",
    "        prop.attrname = self.attrname\n",
    "        return prop\n",
    "\n",
    "    def setter(self, fset):\n",
    "        prop = type(self)(self.fget, fset, self.fdel, self.__doc__)\n",
    "        prop.attrname = self.attrname\n",
    "        return prop\n",
    "\n",
    "    def deleter(self, fdel):\n",
    "        prop = type(self)(self.fget, self.fset, fdel, self.__doc__)\n",
    "        prop.attrname = self.attrname\n",
    "        return prop\n"
   ],
   "metadata": {
    "collapsed": false,
    "pycharm": {
     "name": "#%%\n"
    }
   }
  },
  {
   "cell_type": "code",
   "execution_count": 3,
   "outputs": [],
   "source": [
    "class A:\n",
    "    value = 0\n",
    "\n",
    "    @awaitable_property\n",
    "    def blub(self):\n",
    "        return self.value\n",
    "\n",
    "    @blub.setter\n",
    "    def blub(self, value):\n",
    "        self.value = value"
   ],
   "metadata": {
    "collapsed": false,
    "pycharm": {
     "name": "#%%\n"
    }
   }
  },
  {
   "cell_type": "code",
   "execution_count": 4,
   "outputs": [
    {
     "data": {
      "text/plain": "[5, None]"
     },
     "execution_count": 4,
     "metadata": {},
     "output_type": "execute_result"
    }
   ],
   "source": [
    "x = A()\n",
    "\n",
    "\n",
    "async def get_blub_safe():\n",
    "    return await x.blub.get()\n",
    "\n",
    "\n",
    "async def write_blub_safe():\n",
    "    await x.blub.set(5)\n",
    "\n",
    "\n",
    "await asyncio.gather(get_blub_safe(), write_blub_safe())"
   ],
   "metadata": {
    "collapsed": false,
    "pycharm": {
     "name": "#%%\n"
    }
   }
  },
  {
   "cell_type": "code",
   "execution_count": 5,
   "outputs": [
    {
     "ename": "AttributeError",
     "evalue": "can't set attribute directly, use set()",
     "output_type": "error",
     "traceback": [
      "\u001B[1;31m---------------------------------------------------------------------------\u001B[0m",
      "\u001B[1;31mAttributeError\u001B[0m                            Traceback (most recent call last)",
      "\u001B[1;32m~\\AppData\\Local\\Temp/ipykernel_3268/169912618.py\u001B[0m in \u001B[0;36m<module>\u001B[1;34m\u001B[0m\n\u001B[1;32m----> 1\u001B[1;33m \u001B[0mx\u001B[0m\u001B[1;33m.\u001B[0m\u001B[0mblub\u001B[0m \u001B[1;33m=\u001B[0m \u001B[1;36m4\u001B[0m\u001B[1;33m\u001B[0m\u001B[1;33m\u001B[0m\u001B[0m\n\u001B[0m\u001B[0;32m      2\u001B[0m \u001B[1;32mawait\u001B[0m \u001B[0mx\u001B[0m\u001B[1;33m.\u001B[0m\u001B[0mblub\u001B[0m\u001B[1;33m.\u001B[0m\u001B[0mset\u001B[0m\u001B[1;33m(\u001B[0m\u001B[1;36m4\u001B[0m\u001B[1;33m)\u001B[0m\u001B[1;33m\u001B[0m\u001B[1;33m\u001B[0m\u001B[0m\n",
      "\u001B[1;32m~\\AppData\\Local\\Temp/ipykernel_3268/2953623574.py\u001B[0m in \u001B[0;36m__set__\u001B[1;34m(self, obj, value)\u001B[0m\n\u001B[0;32m     42\u001B[0m \u001B[1;33m\u001B[0m\u001B[0m\n\u001B[0;32m     43\u001B[0m     \u001B[1;32mdef\u001B[0m \u001B[0m__set__\u001B[0m\u001B[1;33m(\u001B[0m\u001B[0mself\u001B[0m\u001B[1;33m,\u001B[0m \u001B[0mobj\u001B[0m\u001B[1;33m,\u001B[0m \u001B[0mvalue\u001B[0m\u001B[1;33m)\u001B[0m\u001B[1;33m:\u001B[0m\u001B[1;33m\u001B[0m\u001B[1;33m\u001B[0m\u001B[0m\n\u001B[1;32m---> 44\u001B[1;33m         \u001B[1;32mraise\u001B[0m \u001B[0mAttributeError\u001B[0m\u001B[1;33m(\u001B[0m\u001B[1;34mf\"can't set attribute directly, use set()\"\u001B[0m\u001B[1;33m)\u001B[0m\u001B[1;33m\u001B[0m\u001B[1;33m\u001B[0m\u001B[0m\n\u001B[0m\u001B[0;32m     45\u001B[0m \u001B[1;33m\u001B[0m\u001B[0m\n\u001B[0;32m     46\u001B[0m     \u001B[1;32mdef\u001B[0m \u001B[0m_create_accessor\u001B[0m\u001B[1;33m(\u001B[0m\u001B[0mself\u001B[0m\u001B[1;33m,\u001B[0m \u001B[0mobj\u001B[0m\u001B[1;33m)\u001B[0m\u001B[1;33m:\u001B[0m\u001B[1;33m\u001B[0m\u001B[1;33m\u001B[0m\u001B[0m\n",
      "\u001B[1;31mAttributeError\u001B[0m: can't set attribute directly, use set()"
     ]
    }
   ],
   "source": [
    "x.blub = 4\n",
    "await x.blub.set(4)"
   ],
   "metadata": {
    "collapsed": false,
    "pycharm": {
     "name": "#%%\n"
    }
   }
  },
  {
   "cell_type": "code",
   "execution_count": null,
   "outputs": [],
   "source": [
    "await x.blub.get()"
   ],
   "metadata": {
    "collapsed": false,
    "pycharm": {
     "name": "#%%\n"
    }
   }
  },
  {
   "cell_type": "code",
   "execution_count": null,
   "outputs": [],
   "source": [
    "await x.blub.set(4)"
   ],
   "metadata": {
    "collapsed": false,
    "pycharm": {
     "name": "#%%\n"
    }
   }
  },
  {
   "cell_type": "code",
   "execution_count": null,
   "outputs": [],
   "source": [],
   "metadata": {
    "collapsed": false,
    "pycharm": {
     "name": "#%%\n"
    }
   }
  }
 ],
 "metadata": {
  "kernelspec": {
   "display_name": "Python 3",
   "language": "python",
   "name": "python3"
  },
  "language_info": {
   "codemirror_mode": {
    "name": "ipython",
    "version": 2
   },
   "file_extension": ".py",
   "mimetype": "text/x-python",
   "name": "python",
   "nbconvert_exporter": "python",
   "pygments_lexer": "ipython2",
   "version": "2.7.6"
  }
 },
 "nbformat": 4,
 "nbformat_minor": 0
}